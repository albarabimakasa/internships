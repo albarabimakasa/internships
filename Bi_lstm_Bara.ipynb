{
  "nbformat": 4,
  "nbformat_minor": 0,
  "metadata": {
    "colab": {
      "name": "Bi-lstm Bara.ipynb",
      "provenance": [],
      "authorship_tag": "ABX9TyO5CIeunPK/GIDGaciHj9Br",
      "include_colab_link": true
    },
    "kernelspec": {
      "name": "python3",
      "display_name": "Python 3"
    },
    "language_info": {
      "name": "python"
    }
  },
  "cells": [
    {
      "cell_type": "markdown",
      "metadata": {
        "id": "view-in-github",
        "colab_type": "text"
      },
      "source": [
        "<a href=\"https://colab.research.google.com/github/albarabimakasa/internships/blob/main/Bi_lstm_Bara.ipynb\" target=\"_parent\"><img src=\"https://colab.research.google.com/assets/colab-badge.svg\" alt=\"Open In Colab\"/></a>"
      ]
    },
    {
      "cell_type": "code",
      "metadata": {
        "id": "kDqnTRrHN97U"
      },
      "source": [
        "# Standard Data Science Libraries\n",
        "import pickle\n",
        "import math\n",
        "import pandas as pd\n",
        "import numpy as np\n",
        "from numpy import array\n",
        "import matplotlib.pyplot as plt\n",
        "import seaborn as sns\n",
        "import tensorflow as tf\n",
        "import keras\n",
        "from tensorflow.keras import layers\n",
        "\n",
        "# Neural Net Preprocessing\n",
        "from sklearn.feature_extraction.text import CountVectorizer\n",
        "from tensorflow.keras.preprocessing.text import Tokenizer\n",
        "from tensorflow.keras.utils import to_categorical\n",
        "from tensorflow.keras.preprocessing.sequence import pad_sequences\n",
        "# Neural Net Layers\n",
        "from tensorflow.keras.models import Sequential\n",
        "from tensorflow.keras.layers import Dense\n",
        "from tensorflow.keras.layers import Dropout\n",
        "from tensorflow.keras.layers import LSTM\n",
        "from tensorflow.keras.layers import Embedding\n",
        "\n",
        "# Neural Net Training\n",
        "from tensorflow.keras.models import load_model\n",
        "from tensorflow.keras.callbacks import ModelCheckpoint\n",
        "from keras.callbacks import EarlyStopping\n",
        "\n",
        "from pickle import load"
      ],
      "execution_count": 1,
      "outputs": []
    },
    {
      "cell_type": "code",
      "metadata": {
        "id": "gS_nvUVCRrkO"
      },
      "source": [
        "from tensorflow.keras.preprocessing.sequence import pad_sequences\n",
        "from tensorflow.keras.layers import Embedding, LSTM, Dense, Dropout, Bidirectional\n",
        "from tensorflow.keras.preprocessing.text import Tokenizer\n",
        "from tensorflow.keras.models import Sequential\n",
        "from tensorflow.keras.optimizers import Adam\n",
        "from tensorflow.keras import regularizers\n",
        "import tensorflow.keras.utils as ku \n",
        "import numpy as np"
      ],
      "execution_count": 13,
      "outputs": []
    },
    {
      "cell_type": "code",
      "metadata": {
        "colab": {
          "resources": {
            "http://localhost:8080/nbextensions/google.colab/files.js": {
              "data": "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",
              "ok": true,
              "headers": [
                [
                  "content-type",
                  "application/javascript"
                ]
              ],
              "status": 200,
              "status_text": ""
            }
          },
          "base_uri": "https://localhost:8080/",
          "height": 55
        },
        "id": "6uvkdzujOI9R",
        "outputId": "4557f672-a87c-4198-fd03-a37ad708eb37"
      },
      "source": [
        "from google.colab import files\n",
        "myfiles = files.upload()\n"
      ],
      "execution_count": 2,
      "outputs": [
        {
          "output_type": "display_data",
          "data": {
            "text/html": [
              "\n",
              "     <input type=\"file\" id=\"files-7405a1bb-88f0-4429-be2b-c65b4e4af79a\" name=\"files[]\" multiple disabled\n",
              "        style=\"border:none\" />\n",
              "     <output id=\"result-7405a1bb-88f0-4429-be2b-c65b4e4af79a\">\n",
              "      Upload widget is only available when the cell has been executed in the\n",
              "      current browser session. Please rerun this cell to enable.\n",
              "      </output>\n",
              "      <script src=\"/nbextensions/google.colab/files.js\"></script> "
            ],
            "text/plain": [
              "<IPython.core.display.HTML object>"
            ]
          },
          "metadata": {}
        },
        {
          "output_type": "stream",
          "name": "stdout",
          "text": [
            "Saving train.csv to train.csv\n"
          ]
        }
      ]
    },
    {
      "cell_type": "code",
      "metadata": {
        "id": "Df_bDHRLOO3M"
      },
      "source": [
        "# Import the data\n",
        "train_df = pd.read_csv('train.csv')"
      ],
      "execution_count": 3,
      "outputs": []
    },
    {
      "cell_type": "code",
      "metadata": {
        "colab": {
          "base_uri": "https://localhost:8080/",
          "height": 419
        },
        "id": "Xus69HwpOiUn",
        "outputId": "96fbd897-40f3-4de4-9891-c36deaf9336e"
      },
      "source": [
        "train_df"
      ],
      "execution_count": 4,
      "outputs": [
        {
          "output_type": "execute_result",
          "data": {
            "text/html": [
              "<div>\n",
              "<style scoped>\n",
              "    .dataframe tbody tr th:only-of-type {\n",
              "        vertical-align: middle;\n",
              "    }\n",
              "\n",
              "    .dataframe tbody tr th {\n",
              "        vertical-align: top;\n",
              "    }\n",
              "\n",
              "    .dataframe thead th {\n",
              "        text-align: right;\n",
              "    }\n",
              "</style>\n",
              "<table border=\"1\" class=\"dataframe\">\n",
              "  <thead>\n",
              "    <tr style=\"text-align: right;\">\n",
              "      <th></th>\n",
              "      <th>id</th>\n",
              "      <th>text</th>\n",
              "      <th>author</th>\n",
              "    </tr>\n",
              "  </thead>\n",
              "  <tbody>\n",
              "    <tr>\n",
              "      <th>0</th>\n",
              "      <td>id26305</td>\n",
              "      <td>This process, however, afforded me no means of...</td>\n",
              "      <td>EAP</td>\n",
              "    </tr>\n",
              "    <tr>\n",
              "      <th>1</th>\n",
              "      <td>id17569</td>\n",
              "      <td>It never once occurred to me that the fumbling...</td>\n",
              "      <td>HPL</td>\n",
              "    </tr>\n",
              "    <tr>\n",
              "      <th>2</th>\n",
              "      <td>id11008</td>\n",
              "      <td>In his left hand was a gold snuff box, from wh...</td>\n",
              "      <td>EAP</td>\n",
              "    </tr>\n",
              "    <tr>\n",
              "      <th>3</th>\n",
              "      <td>id27763</td>\n",
              "      <td>How lovely is spring As we looked from Windsor...</td>\n",
              "      <td>MWS</td>\n",
              "    </tr>\n",
              "    <tr>\n",
              "      <th>4</th>\n",
              "      <td>id12958</td>\n",
              "      <td>Finding nothing else, not even gold, the Super...</td>\n",
              "      <td>HPL</td>\n",
              "    </tr>\n",
              "    <tr>\n",
              "      <th>...</th>\n",
              "      <td>...</td>\n",
              "      <td>...</td>\n",
              "      <td>...</td>\n",
              "    </tr>\n",
              "    <tr>\n",
              "      <th>19574</th>\n",
              "      <td>id17718</td>\n",
              "      <td>I could have fancied, while I looked at it, th...</td>\n",
              "      <td>EAP</td>\n",
              "    </tr>\n",
              "    <tr>\n",
              "      <th>19575</th>\n",
              "      <td>id08973</td>\n",
              "      <td>The lids clenched themselves together as if in...</td>\n",
              "      <td>EAP</td>\n",
              "    </tr>\n",
              "    <tr>\n",
              "      <th>19576</th>\n",
              "      <td>id05267</td>\n",
              "      <td>Mais il faut agir that is to say, a Frenchman ...</td>\n",
              "      <td>EAP</td>\n",
              "    </tr>\n",
              "    <tr>\n",
              "      <th>19577</th>\n",
              "      <td>id17513</td>\n",
              "      <td>For an item of news like this, it strikes us i...</td>\n",
              "      <td>EAP</td>\n",
              "    </tr>\n",
              "    <tr>\n",
              "      <th>19578</th>\n",
              "      <td>id00393</td>\n",
              "      <td>He laid a gnarled claw on my shoulder, and it ...</td>\n",
              "      <td>HPL</td>\n",
              "    </tr>\n",
              "  </tbody>\n",
              "</table>\n",
              "<p>19579 rows × 3 columns</p>\n",
              "</div>"
            ],
            "text/plain": [
              "            id                                               text author\n",
              "0      id26305  This process, however, afforded me no means of...    EAP\n",
              "1      id17569  It never once occurred to me that the fumbling...    HPL\n",
              "2      id11008  In his left hand was a gold snuff box, from wh...    EAP\n",
              "3      id27763  How lovely is spring As we looked from Windsor...    MWS\n",
              "4      id12958  Finding nothing else, not even gold, the Super...    HPL\n",
              "...        ...                                                ...    ...\n",
              "19574  id17718  I could have fancied, while I looked at it, th...    EAP\n",
              "19575  id08973  The lids clenched themselves together as if in...    EAP\n",
              "19576  id05267  Mais il faut agir that is to say, a Frenchman ...    EAP\n",
              "19577  id17513  For an item of news like this, it strikes us i...    EAP\n",
              "19578  id00393  He laid a gnarled claw on my shoulder, and it ...    HPL\n",
              "\n",
              "[19579 rows x 3 columns]"
            ]
          },
          "metadata": {},
          "execution_count": 4
        }
      ]
    },
    {
      "cell_type": "code",
      "metadata": {
        "colab": {
          "base_uri": "https://localhost:8080/"
        },
        "id": "EUQsM8jyOlre",
        "outputId": "ecea3dc3-ede8-40b7-acb2-dd8a07552fe4"
      },
      "source": [
        "# Selecting Edgar Allen Poe as author style to emulate\n",
        "author = train_df[train_df['author']=='EAP'][\"text\"]\n",
        "print('Number of training sentences: ',author.shape[0])"
      ],
      "execution_count": 5,
      "outputs": [
        {
          "output_type": "stream",
          "name": "stdout",
          "text": [
            "Number of training sentences:  7900\n"
          ]
        }
      ]
    },
    {
      "cell_type": "code",
      "metadata": {
        "colab": {
          "base_uri": "https://localhost:8080/"
        },
        "id": "iFHFNxxhOprM",
        "outputId": "e74f8050-ef3b-42f7-b236-8e111d61e1a3"
      },
      "source": [
        "\n",
        "max_words = 50000 # Max size of the dictionary\n",
        "tokenizer = Tokenizer(num_words=max_words)\n",
        "tokenizer.fit_on_texts(author.values)\n",
        "sequences = tokenizer.texts_to_sequences(author.values)\n",
        "print(sequences[:5])"
      ],
      "execution_count": 6,
      "outputs": [
        {
          "output_type": "stream",
          "name": "stdout",
          "text": [
            "[[19, 2397, 80, 1001, 29, 31, 177, 2, 4073, 1, 1960, 2, 11, 3024, 15, 7, 110, 157, 41, 2146, 3, 481, 4, 1, 149, 2147, 7, 393, 74, 114, 101, 439, 2, 1, 162, 32, 913, 6453, 136, 1, 380], [6, 21, 142, 150, 10, 5, 551, 2148, 319, 28, 16, 15, 20, 8999, 128, 1, 3025, 2398, 30, 171, 2, 1797, 697, 20, 180, 2148, 6454, 12, 33, 188, 2, 1, 869, 243, 522, 1264], [1, 6455, 203, 14, 19, 149, 180, 6456, 6, 1, 1357, 2, 1358, 9000, 3, 83, 2149, 10, 355, 140, 794], [1, 4074, 491, 6, 9001, 28, 11, 158], [7, 287, 9, 36, 48, 22, 73, 4, 644, 9002, 114, 101, 346, 4, 271, 2, 9003, 3, 81, 2, 1, 3026, 2, 6457, 3, 282, 53, 34, 6458, 19, 339, 22, 43, 97, 608, 7, 450, 4, 36, 133, 1191, 88, 12, 133, 71, 914, 1, 759, 3027, 2, 9, 1445, 1359, 18, 760, 12, 4973, 6, 1, 421, 9004, 9005, 7, 214, 9, 36, 48, 22, 3449, 3028, 98, 124, 1192, 4, 1, 92, 9006, 6, 3450, 3, 7, 761, 870, 9, 36, 55, 111, 32]]\n"
          ]
        }
      ]
    },
    {
      "cell_type": "code",
      "metadata": {
        "id": "KggPwnf0OsVY"
      },
      "source": [
        "# Flatten the list of lists resulting from the tokenization. This will reduce the list\n",
        "# to one dimension, allowing us to apply the sliding window technique to predict the next word\n",
        "text = [item for sublist in sequences for item in sublist]\n",
        "vocab_size = len(tokenizer.word_index)"
      ],
      "execution_count": 7,
      "outputs": []
    },
    {
      "cell_type": "code",
      "metadata": {
        "colab": {
          "base_uri": "https://localhost:8080/"
        },
        "id": "l1kPinScOv8T",
        "outputId": "621c9310-354a-41f7-9d46-13690c168c28"
      },
      "source": [
        "print('Vocabulary size in this corpus: ', vocab_size)"
      ],
      "execution_count": 8,
      "outputs": [
        {
          "output_type": "stream",
          "name": "stdout",
          "text": [
            "Vocabulary size in this corpus:  15713\n"
          ]
        }
      ]
    },
    {
      "cell_type": "code",
      "metadata": {
        "id": "i20yqaJGOye8"
      },
      "source": [
        "# Training on 19 words to predict the 20th\n",
        "sentence_len = 20\n",
        "pred_len = 1\n",
        "train_len = sentence_len - pred_len\n",
        "seq = []\n",
        "# Sliding window to generate train data\n",
        "for i in range(len(text)-sentence_len):\n",
        "    seq.append(text[i:i+sentence_len])\n",
        "# Reverse dictionary to decode tokenized sequences back to words\n",
        "reverse_word_map = dict(map(reversed, tokenizer.word_index.items()))\n",
        "\n",
        "# Save tokenizer\n",
        "# dump(tok, open('tokenizer.pkl', 'wb'))"
      ],
      "execution_count": 9,
      "outputs": []
    },
    {
      "cell_type": "code",
      "metadata": {
        "id": "5TM_oZqnO35N"
      },
      "source": [
        "# Each row in seq is a 20 word long window. We append he first 19 words as the input to predict the 20th word\n",
        "trainX = []\n",
        "trainy = []\n",
        "for i in seq:\n",
        "    trainX.append(i[:train_len])\n",
        "    trainy.append(i[-1])"
      ],
      "execution_count": 10,
      "outputs": []
    },
    {
      "cell_type": "code",
      "metadata": {
        "id": "WraT1Zx7O6sU"
      },
      "source": [
        "# define model\n",
        "model = Sequential([\n",
        "    Embedding(vocab_size+1, 50, input_length=train_len),\n",
        "    LSTM(100, return_sequences=True),\n",
        "    LSTM(100),\n",
        "    Dense(100, activation='relu'),\n",
        "    Dense(vocab_size, activation='softmax')\n",
        "])"
      ],
      "execution_count": null,
      "outputs": []
    },
    {
      "cell_type": "code",
      "metadata": {
        "id": "TpYnx6v0PEUf"
      },
      "source": [
        "model1 = Sequential()\n",
        "model1.add(Embedding(vocab_size+1, 50, input_length=train_len))\n",
        "model1.add(Bidirectional(LSTM(100, return_sequences=True)))\n",
        "model1.add(Dropout(0.2))\n",
        "model1.add(LSTM(100))\n",
        "model1.add(Dense(vocab_size, activation='Softmax'))"
      ],
      "execution_count": 14,
      "outputs": []
    },
    {
      "cell_type": "code",
      "metadata": {
        "colab": {
          "base_uri": "https://localhost:8080/"
        },
        "id": "9MpOANRhQ8eT",
        "outputId": "af6c758a-2d17-41a3-e621-dc0380852e22"
      },
      "source": [
        "model1.summary()"
      ],
      "execution_count": 15,
      "outputs": [
        {
          "output_type": "stream",
          "name": "stdout",
          "text": [
            "Model: \"sequential_1\"\n",
            "_________________________________________________________________\n",
            " Layer (type)                Output Shape              Param #   \n",
            "=================================================================\n",
            " embedding_1 (Embedding)     (None, 19, 50)            785700    \n",
            "                                                                 \n",
            " bidirectional (Bidirectiona  (None, 19, 200)          120800    \n",
            " l)                                                              \n",
            "                                                                 \n",
            " dropout (Dropout)           (None, 19, 200)           0         \n",
            "                                                                 \n",
            " lstm_1 (LSTM)               (None, 100)               120400    \n",
            "                                                                 \n",
            " dense (Dense)               (None, 15713)             1587013   \n",
            "                                                                 \n",
            "=================================================================\n",
            "Total params: 2,613,913\n",
            "Trainable params: 2,613,913\n",
            "Non-trainable params: 0\n",
            "_________________________________________________________________\n"
          ]
        }
      ]
    },
    {
      "cell_type": "code",
      "metadata": {
        "colab": {
          "base_uri": "https://localhost:8080/",
          "height": 644
        },
        "id": "YAcU2SrqR0Lo",
        "outputId": "80ab6c74-dbdf-4bf8-ab33-cc13dea93427"
      },
      "source": [
        "from keras.utils.vis_utils import plot_model\n",
        "plot_model(model1, to_file ='model_BI_LSTM.png', show_shapes=True,show_layer_names=False)"
      ],
      "execution_count": 17,
      "outputs": [
        {
          "output_type": "execute_result",
          "data": {
            "image/png": "[encoded data removed]",
            "text/plain": [
              "<IPython.core.display.Image object>"
            ]
          },
          "metadata": {},
          "execution_count": 17
        }
      ]
    },
    {
      "cell_type": "code",
      "metadata": {
        "colab": {
          "base_uri": "https://localhost:8080/"
        },
        "id": "dZxEdQYCR3ip",
        "outputId": "0670b238-879f-4ec9-d830-57bc7dcb7a20"
      },
      "source": [
        "model1.compile(loss='categorical_crossentropy', optimizer='adam', metrics=['accuracy'])\n",
        "print(model1.summary())"
      ],
      "execution_count": 20,
      "outputs": [
        {
          "output_type": "stream",
          "name": "stdout",
          "text": [
            "Model: \"sequential_1\"\n",
            "_________________________________________________________________\n",
            " Layer (type)                Output Shape              Param #   \n",
            "=================================================================\n",
            " embedding_1 (Embedding)     (None, 19, 50)            785700    \n",
            "                                                                 \n",
            " bidirectional (Bidirectiona  (None, 19, 200)          120800    \n",
            " l)                                                              \n",
            "                                                                 \n",
            " dropout (Dropout)           (None, 19, 200)           0         \n",
            "                                                                 \n",
            " lstm_1 (LSTM)               (None, 100)               120400    \n",
            "                                                                 \n",
            " dense (Dense)               (None, 15713)             1587013   \n",
            "                                                                 \n",
            "=================================================================\n",
            "Total params: 2,613,913\n",
            "Trainable params: 2,613,913\n",
            "Non-trainable params: 0\n",
            "_________________________________________________________________\n",
            "None\n"
          ]
        }
      ]
    },
    {
      "cell_type": "code",
      "metadata": {
        "colab": {
          "base_uri": "https://localhost:8080/"
        },
        "id": "tPzu7LgCSGMR",
        "outputId": "88da308f-9841-4bd9-bc00-04629c4acc09"
      },
      "source": [
        "# fit model................................\n",
        "history = model1.fit(np.asarray(trainX), pd.get_dummies(np.asarray(trainy)), batch_size=128, epochs=100,verbose =1,validation_split=0.2)"
      ],
      "execution_count": 25,
      "outputs": [
        {
          "output_type": "stream",
          "name": "stdout",
          "text": [
            "Epoch 1/100\n",
            "1257/1257 [==============================] - 328s 256ms/step - loss: 6.8477 - accuracy: 0.0880 - val_loss: 6.5579 - val_accuracy: 0.1019\n",
            "Epoch 2/100\n",
            "1257/1257 [==============================] - 319s 254ms/step - loss: 6.2877 - accuracy: 0.1113 - val_loss: 6.4385 - val_accuracy: 0.1131\n",
            "Epoch 3/100\n",
            "1257/1257 [==============================] - 312s 249ms/step - loss: 6.0736 - accuracy: 0.1277 - val_loss: 6.3930 - val_accuracy: 0.1214\n",
            "Epoch 4/100\n",
            "1257/1257 [==============================] - 312s 248ms/step - loss: 5.9195 - accuracy: 0.1355 - val_loss: 6.3777 - val_accuracy: 0.1234\n",
            "Epoch 5/100\n",
            "1257/1257 [==============================] - 315s 250ms/step - loss: 5.7963 - accuracy: 0.1411 - val_loss: 6.3974 - val_accuracy: 0.1232\n",
            "Epoch 6/100\n",
            "1257/1257 [==============================] - 313s 249ms/step - loss: 5.6863 - accuracy: 0.1459 - val_loss: 6.4181 - val_accuracy: 0.1261\n",
            "Epoch 7/100\n",
            "1257/1257 [==============================] - 313s 249ms/step - loss: 5.5820 - accuracy: 0.1501 - val_loss: 6.4529 - val_accuracy: 0.1281\n",
            "Epoch 8/100\n",
            "1257/1257 [==============================] - 317s 252ms/step - loss: 5.4868 - accuracy: 0.1538 - val_loss: 6.4942 - val_accuracy: 0.1291\n",
            "Epoch 9/100\n",
            "1257/1257 [==============================] - 314s 250ms/step - loss: 5.3915 - accuracy: 0.1571 - val_loss: 6.5504 - val_accuracy: 0.1302\n",
            "Epoch 10/100\n",
            "1257/1257 [==============================] - 312s 248ms/step - loss: 5.2988 - accuracy: 0.1601 - val_loss: 6.6082 - val_accuracy: 0.1308\n",
            "Epoch 11/100\n",
            "1257/1257 [==============================] - 312s 249ms/step - loss: 5.2107 - accuracy: 0.1649 - val_loss: 6.6894 - val_accuracy: 0.1322\n",
            "Epoch 12/100\n",
            "1257/1257 [==============================] - 319s 254ms/step - loss: 5.1279 - accuracy: 0.1680 - val_loss: 6.7560 - val_accuracy: 0.1314\n",
            "Epoch 13/100\n",
            "1257/1257 [==============================] - 321s 255ms/step - loss: 5.0489 - accuracy: 0.1718 - val_loss: 6.8270 - val_accuracy: 0.1325\n",
            "Epoch 14/100\n",
            "1257/1257 [==============================] - 319s 254ms/step - loss: 4.9763 - accuracy: 0.1752 - val_loss: 6.9025 - val_accuracy: 0.1320\n",
            "Epoch 15/100\n",
            "1257/1257 [==============================] - 315s 250ms/step - loss: 4.9037 - accuracy: 0.1793 - val_loss: 6.9845 - val_accuracy: 0.1336\n",
            "Epoch 16/100\n",
            "1257/1257 [==============================] - 317s 252ms/step - loss: 4.8384 - accuracy: 0.1831 - val_loss: 7.0695 - val_accuracy: 0.1337\n",
            "Epoch 17/100\n",
            "1257/1257 [==============================] - 315s 251ms/step - loss: 4.7735 - accuracy: 0.1871 - val_loss: 7.1595 - val_accuracy: 0.1322\n",
            "Epoch 18/100\n",
            "1257/1257 [==============================] - 313s 249ms/step - loss: 4.7142 - accuracy: 0.1907 - val_loss: 7.2243 - val_accuracy: 0.1337\n",
            "Epoch 19/100\n",
            "1257/1257 [==============================] - 313s 249ms/step - loss: 4.6553 - accuracy: 0.1953 - val_loss: 7.2875 - val_accuracy: 0.1332\n",
            "Epoch 20/100\n",
            "1257/1257 [==============================] - 313s 249ms/step - loss: 4.5998 - accuracy: 0.1985 - val_loss: 7.3482 - val_accuracy: 0.1327\n",
            "Epoch 21/100\n",
            "1257/1257 [==============================] - 317s 252ms/step - loss: 4.5452 - accuracy: 0.2044 - val_loss: 7.4244 - val_accuracy: 0.1323\n",
            "Epoch 22/100\n",
            "1257/1257 [==============================] - 313s 249ms/step - loss: 4.4940 - accuracy: 0.2082 - val_loss: 7.5003 - val_accuracy: 0.1327\n",
            "Epoch 23/100\n",
            "1257/1257 [==============================] - 315s 250ms/step - loss: 4.4442 - accuracy: 0.2129 - val_loss: 7.5559 - val_accuracy: 0.1319\n",
            "Epoch 24/100\n",
            "1257/1257 [==============================] - 318s 253ms/step - loss: 4.3973 - accuracy: 0.2170 - val_loss: 7.6086 - val_accuracy: 0.1335\n",
            "Epoch 25/100\n",
            "1257/1257 [==============================] - 316s 251ms/step - loss: 4.3495 - accuracy: 0.2210 - val_loss: 7.6847 - val_accuracy: 0.1310\n",
            "Epoch 26/100\n",
            "1257/1257 [==============================] - 313s 249ms/step - loss: 4.3058 - accuracy: 0.2256 - val_loss: 7.7485 - val_accuracy: 0.1297\n",
            "Epoch 27/100\n",
            "1257/1257 [==============================] - 316s 251ms/step - loss: 4.2614 - accuracy: 0.2304 - val_loss: 7.7989 - val_accuracy: 0.1309\n",
            "Epoch 28/100\n",
            "1257/1257 [==============================] - 316s 252ms/step - loss: 4.2193 - accuracy: 0.2347 - val_loss: 7.8578 - val_accuracy: 0.1273\n",
            "Epoch 29/100\n",
            "1257/1257 [==============================] - 317s 252ms/step - loss: 4.1777 - accuracy: 0.2393 - val_loss: 7.9264 - val_accuracy: 0.1292\n",
            "Epoch 30/100\n",
            "1257/1257 [==============================] - 313s 249ms/step - loss: 4.1358 - accuracy: 0.2430 - val_loss: 7.9816 - val_accuracy: 0.1282\n",
            "Epoch 31/100\n",
            "1257/1257 [==============================] - 315s 250ms/step - loss: 4.0969 - accuracy: 0.2470 - val_loss: 8.0332 - val_accuracy: 0.1282\n",
            "Epoch 32/100\n",
            "1257/1257 [==============================] - 314s 250ms/step - loss: 4.0595 - accuracy: 0.2516 - val_loss: 8.0860 - val_accuracy: 0.1287\n",
            "Epoch 33/100\n",
            "1257/1257 [==============================] - 314s 250ms/step - loss: 4.0227 - accuracy: 0.2550 - val_loss: 8.1424 - val_accuracy: 0.1285\n",
            "Epoch 34/100\n",
            "1257/1257 [==============================] - 315s 251ms/step - loss: 3.9860 - accuracy: 0.2595 - val_loss: 8.1962 - val_accuracy: 0.1276\n",
            "Epoch 35/100\n",
            "1257/1257 [==============================] - 318s 253ms/step - loss: 3.9516 - accuracy: 0.2640 - val_loss: 8.2513 - val_accuracy: 0.1274\n",
            "Epoch 36/100\n",
            "1257/1257 [==============================] - 315s 251ms/step - loss: 3.9158 - accuracy: 0.2683 - val_loss: 8.3138 - val_accuracy: 0.1282\n",
            "Epoch 37/100\n",
            "1257/1257 [==============================] - 313s 249ms/step - loss: 3.8837 - accuracy: 0.2725 - val_loss: 8.3685 - val_accuracy: 0.1257\n",
            "Epoch 38/100\n",
            "1257/1257 [==============================] - 313s 249ms/step - loss: 3.8507 - accuracy: 0.2776 - val_loss: 8.4055 - val_accuracy: 0.1254\n",
            "Epoch 39/100\n",
            "1257/1257 [==============================] - 317s 252ms/step - loss: 3.8171 - accuracy: 0.2804 - val_loss: 8.4513 - val_accuracy: 0.1252\n",
            "Epoch 40/100\n",
            "1257/1257 [==============================] - 318s 253ms/step - loss: 3.7858 - accuracy: 0.2849 - val_loss: 8.5135 - val_accuracy: 0.1251\n",
            "Epoch 41/100\n",
            "1257/1257 [==============================] - 315s 251ms/step - loss: 3.7529 - accuracy: 0.2892 - val_loss: 8.5631 - val_accuracy: 0.1251\n",
            "Epoch 42/100\n",
            "1257/1257 [==============================] - 314s 250ms/step - loss: 3.7231 - accuracy: 0.2926 - val_loss: 8.5915 - val_accuracy: 0.1248\n",
            "Epoch 43/100\n",
            "1257/1257 [==============================] - 313s 249ms/step - loss: 3.6915 - accuracy: 0.2960 - val_loss: 8.6506 - val_accuracy: 0.1228\n",
            "Epoch 44/100\n",
            "1257/1257 [==============================] - 314s 249ms/step - loss: 3.6643 - accuracy: 0.2997 - val_loss: 8.6920 - val_accuracy: 0.1219\n",
            "Epoch 45/100\n",
            "1257/1257 [==============================] - 313s 249ms/step - loss: 3.6340 - accuracy: 0.3043 - val_loss: 8.7412 - val_accuracy: 0.1212\n",
            "Epoch 46/100\n",
            "1257/1257 [==============================] - 318s 253ms/step - loss: 3.6067 - accuracy: 0.3072 - val_loss: 8.7920 - val_accuracy: 0.1203\n",
            "Epoch 47/100\n",
            "1257/1257 [==============================] - 317s 253ms/step - loss: 3.5772 - accuracy: 0.3115 - val_loss: 8.8215 - val_accuracy: 0.1207\n",
            "Epoch 48/100\n",
            "1257/1257 [==============================] - 314s 250ms/step - loss: 3.5515 - accuracy: 0.3150 - val_loss: 8.8790 - val_accuracy: 0.1187\n",
            "Epoch 49/100\n",
            "1257/1257 [==============================] - 313s 249ms/step - loss: 3.5235 - accuracy: 0.3191 - val_loss: 8.9308 - val_accuracy: 0.1191\n",
            "Epoch 50/100\n",
            "1257/1257 [==============================] - 315s 251ms/step - loss: 3.4970 - accuracy: 0.3219 - val_loss: 8.9735 - val_accuracy: 0.1183\n",
            "Epoch 51/100\n",
            "1257/1257 [==============================] - 315s 251ms/step - loss: 3.4677 - accuracy: 0.3263 - val_loss: 9.0278 - val_accuracy: 0.1191\n",
            "Epoch 52/100\n",
            "1257/1257 [==============================] - 315s 250ms/step - loss: 3.4444 - accuracy: 0.3290 - val_loss: 9.0686 - val_accuracy: 0.1155\n",
            "Epoch 53/100\n",
            "1257/1257 [==============================] - 317s 252ms/step - loss: 3.4169 - accuracy: 0.3341 - val_loss: 9.1167 - val_accuracy: 0.1169\n",
            "Epoch 54/100\n",
            "1257/1257 [==============================] - 316s 251ms/step - loss: 3.3933 - accuracy: 0.3362 - val_loss: 9.1552 - val_accuracy: 0.1158\n",
            "Epoch 55/100\n",
            "1257/1257 [==============================] - 315s 251ms/step - loss: 3.3661 - accuracy: 0.3402 - val_loss: 9.2054 - val_accuracy: 0.1160\n",
            "Epoch 56/100\n",
            "1257/1257 [==============================] - 315s 251ms/step - loss: 3.3421 - accuracy: 0.3445 - val_loss: 9.2356 - val_accuracy: 0.1161\n",
            "Epoch 57/100\n",
            "1257/1257 [==============================] - 314s 250ms/step - loss: 3.3198 - accuracy: 0.3466 - val_loss: 9.2835 - val_accuracy: 0.1146\n",
            "Epoch 58/100\n",
            "1257/1257 [==============================] - 320s 255ms/step - loss: 3.2979 - accuracy: 0.3508 - val_loss: 9.3211 - val_accuracy: 0.1161\n",
            "Epoch 59/100\n",
            "1257/1257 [==============================] - 319s 254ms/step - loss: 3.2746 - accuracy: 0.3539 - val_loss: 9.3749 - val_accuracy: 0.1128\n",
            "Epoch 60/100\n",
            "1257/1257 [==============================] - 318s 253ms/step - loss: 3.2479 - accuracy: 0.3562 - val_loss: 9.4245 - val_accuracy: 0.1155\n",
            "Epoch 61/100\n",
            "1257/1257 [==============================] - 316s 252ms/step - loss: 3.2276 - accuracy: 0.3605 - val_loss: 9.4548 - val_accuracy: 0.1128\n",
            "Epoch 62/100\n",
            "1257/1257 [==============================] - 319s 254ms/step - loss: 3.2050 - accuracy: 0.3643 - val_loss: 9.5016 - val_accuracy: 0.1122\n",
            "Epoch 63/100\n",
            "1257/1257 [==============================] - 315s 251ms/step - loss: 3.1857 - accuracy: 0.3659 - val_loss: 9.5375 - val_accuracy: 0.1111\n",
            "Epoch 64/100\n",
            "1257/1257 [==============================] - 314s 250ms/step - loss: 3.1610 - accuracy: 0.3699 - val_loss: 9.5790 - val_accuracy: 0.1111\n",
            "Epoch 65/100\n",
            "1257/1257 [==============================] - 317s 252ms/step - loss: 3.1434 - accuracy: 0.3719 - val_loss: 9.6319 - val_accuracy: 0.1125\n",
            "Epoch 66/100\n",
            "1257/1257 [==============================] - 319s 254ms/step - loss: 3.1170 - accuracy: 0.3757 - val_loss: 9.6732 - val_accuracy: 0.1112\n",
            "Epoch 67/100\n",
            "1257/1257 [==============================] - 319s 254ms/step - loss: 3.0982 - accuracy: 0.3797 - val_loss: 9.7052 - val_accuracy: 0.1085\n",
            "Epoch 68/100\n",
            "1257/1257 [==============================] - 317s 252ms/step - loss: 3.0783 - accuracy: 0.3829 - val_loss: 9.7552 - val_accuracy: 0.1080\n",
            "Epoch 69/100\n",
            "1257/1257 [==============================] - 323s 257ms/step - loss: 3.0576 - accuracy: 0.3859 - val_loss: 9.7861 - val_accuracy: 0.1094\n",
            "Epoch 70/100\n",
            "1257/1257 [==============================] - 321s 256ms/step - loss: 3.0353 - accuracy: 0.3891 - val_loss: 9.8485 - val_accuracy: 0.1099\n",
            "Epoch 71/100\n",
            "1257/1257 [==============================] - 314s 249ms/step - loss: 3.0188 - accuracy: 0.3903 - val_loss: 9.8777 - val_accuracy: 0.1122\n",
            "Epoch 72/100\n",
            "1257/1257 [==============================] - 314s 249ms/step - loss: 2.9970 - accuracy: 0.3948 - val_loss: 9.9187 - val_accuracy: 0.1088\n",
            "Epoch 73/100\n",
            "1257/1257 [==============================] - 316s 252ms/step - loss: 2.9776 - accuracy: 0.3977 - val_loss: 9.9328 - val_accuracy: 0.1081\n",
            "Epoch 74/100\n",
            "1257/1257 [==============================] - 314s 250ms/step - loss: 2.9605 - accuracy: 0.4002 - val_loss: 9.9883 - val_accuracy: 0.1065\n",
            "Epoch 75/100\n",
            "1257/1257 [==============================] - 312s 248ms/step - loss: 2.9431 - accuracy: 0.4034 - val_loss: 10.0141 - val_accuracy: 0.1051\n",
            "Epoch 76/100\n",
            "1257/1257 [==============================] - 314s 250ms/step - loss: 2.9284 - accuracy: 0.4053 - val_loss: 10.0835 - val_accuracy: 0.1056\n",
            "Epoch 77/100\n",
            "1257/1257 [==============================] - 312s 248ms/step - loss: 2.9049 - accuracy: 0.4079 - val_loss: 10.1059 - val_accuracy: 0.1090\n",
            "Epoch 78/100\n",
            "1257/1257 [==============================] - 311s 247ms/step - loss: 2.8902 - accuracy: 0.4109 - val_loss: 10.1660 - val_accuracy: 0.1060\n",
            "Epoch 79/100\n",
            "1257/1257 [==============================] - 314s 250ms/step - loss: 2.8720 - accuracy: 0.4139 - val_loss: 10.1680 - val_accuracy: 0.1084\n",
            "Epoch 80/100\n",
            "1257/1257 [==============================] - 313s 249ms/step - loss: 2.8542 - accuracy: 0.4163 - val_loss: 10.2270 - val_accuracy: 0.1044\n",
            "Epoch 81/100\n",
            "1257/1257 [==============================] - 312s 248ms/step - loss: 2.8338 - accuracy: 0.4204 - val_loss: 10.2546 - val_accuracy: 0.1061\n",
            "Epoch 82/100\n",
            "1257/1257 [==============================] - 313s 249ms/step - loss: 2.8207 - accuracy: 0.4228 - val_loss: 10.3031 - val_accuracy: 0.1049\n",
            "Epoch 83/100\n",
            "1257/1257 [==============================] - 313s 249ms/step - loss: 2.8059 - accuracy: 0.4239 - val_loss: 10.3476 - val_accuracy: 0.1035\n",
            "Epoch 84/100\n",
            "1257/1257 [==============================] - 316s 251ms/step - loss: 2.7881 - accuracy: 0.4263 - val_loss: 10.3670 - val_accuracy: 0.1029\n",
            "Epoch 85/100\n",
            "1257/1257 [==============================] - 319s 254ms/step - loss: 2.7712 - accuracy: 0.4296 - val_loss: 10.4006 - val_accuracy: 0.1026\n",
            "Epoch 86/100\n",
            "1257/1257 [==============================] - 319s 254ms/step - loss: 2.7549 - accuracy: 0.4301 - val_loss: 10.4520 - val_accuracy: 0.1028\n",
            "Epoch 87/100\n",
            "1257/1257 [==============================] - 315s 250ms/step - loss: 2.7404 - accuracy: 0.4343 - val_loss: 10.4451 - val_accuracy: 0.1034\n",
            "Epoch 88/100\n",
            "1257/1257 [==============================] - 312s 248ms/step - loss: 2.7231 - accuracy: 0.4368 - val_loss: 10.5137 - val_accuracy: 0.1008\n",
            "Epoch 89/100\n",
            "1257/1257 [==============================] - 314s 250ms/step - loss: 2.7123 - accuracy: 0.4384 - val_loss: 10.5482 - val_accuracy: 0.1031\n",
            "Epoch 90/100\n",
            "1257/1257 [==============================] - 315s 251ms/step - loss: 2.6956 - accuracy: 0.4411 - val_loss: 10.5971 - val_accuracy: 0.1037\n",
            "Epoch 91/100\n",
            "1257/1257 [==============================] - 315s 250ms/step - loss: 2.6808 - accuracy: 0.4433 - val_loss: 10.6256 - val_accuracy: 0.1019\n",
            "Epoch 92/100\n",
            "1257/1257 [==============================] - 321s 255ms/step - loss: 2.6643 - accuracy: 0.4454 - val_loss: 10.6556 - val_accuracy: 0.1024\n",
            "Epoch 93/100\n",
            "1257/1257 [==============================] - 320s 254ms/step - loss: 2.6493 - accuracy: 0.4493 - val_loss: 10.7225 - val_accuracy: 0.1016\n",
            "Epoch 94/100\n",
            "1257/1257 [==============================] - 315s 251ms/step - loss: 2.6366 - accuracy: 0.4504 - val_loss: 10.7256 - val_accuracy: 0.1021\n",
            "Epoch 95/100\n",
            "1257/1257 [==============================] - 315s 251ms/step - loss: 2.6226 - accuracy: 0.4525 - val_loss: 10.7626 - val_accuracy: 0.1007\n",
            "Epoch 96/100\n",
            "1257/1257 [==============================] - 317s 252ms/step - loss: 2.6136 - accuracy: 0.4552 - val_loss: 10.7775 - val_accuracy: 0.1023\n",
            "Epoch 97/100\n",
            "1257/1257 [==============================] - 314s 250ms/step - loss: 2.5989 - accuracy: 0.4560 - val_loss: 10.8289 - val_accuracy: 0.1011\n",
            "Epoch 98/100\n",
            "1257/1257 [==============================] - 314s 250ms/step - loss: 2.5835 - accuracy: 0.4579 - val_loss: 10.8707 - val_accuracy: 0.0998\n",
            "Epoch 99/100\n",
            "1257/1257 [==============================] - 317s 252ms/step - loss: 2.5735 - accuracy: 0.4594 - val_loss: 10.9024 - val_accuracy: 0.1016\n",
            "Epoch 100/100\n",
            "1257/1257 [==============================] - 314s 250ms/step - loss: 2.5558 - accuracy: 0.4634 - val_loss: 10.9440 - val_accuracy: 0.1003\n"
          ]
        }
      ]
    },
    {
      "cell_type": "code",
      "metadata": {
        "colab": {
          "base_uri": "https://localhost:8080/"
        },
        "id": "63ydXSD7Kvcw",
        "outputId": "b8365c61-2905-4e7c-9f7f-3a2f5bdeaaeb"
      },
      "source": [
        "evaluation = model1.evaluate(np.asarray(trainX),pd.get_dummies(np.asarray(trainy)))\n",
        "print('accuration:{:.2f}'.format(evaluation[1]*100))"
      ],
      "execution_count": 26,
      "outputs": [
        {
          "output_type": "stream",
          "name": "stdout",
          "text": [
            "6284/6284 [==============================] - 173s 28ms/step - loss: 3.9302 - accuracy: 0.4574\n",
            "accuration:45.74\n"
          ]
        }
      ]
    },
    {
      "cell_type": "code",
      "metadata": {
        "colab": {
          "base_uri": "https://localhost:8080/",
          "height": 545
        },
        "id": "fwtB-7VALAve",
        "outputId": "a8d18a4b-83e9-4662-b468-bbcfa1e197f9"
      },
      "source": [
        "import matplotlib.pyplot as plt\n",
        "acc = history.history['accuracy']\n",
        "loss = history.history['loss']\n",
        "epochs = range(len(acc))\n",
        "plt.plot(epochs, acc, 'b', label='Training accuracy')\n",
        "plt.title('Training accuracy')\n",
        "plt.figure()\n",
        "plt.plot(epochs, loss, 'b', label='Training Loss')\n",
        "plt.title('Training loss')\n",
        "plt.legend()\n",
        "plt.show()"
      ],
      "execution_count": 27,
      "outputs": [
        {
          "output_type": "display_data",
          "data": {
            "image/png": "[encoded data removed]",
            "text/plain": [
              "<Figure size 432x288 with 1 Axes>"
            ]
          },
          "metadata": {
            "needs_background": "light"
          }
        },
        {
          "output_type": "display_data",
          "data": {
            "image/png": "[encoded data removed]",
            "text/plain": [
              "<Figure size 432x288 with 1 Axes>"
            ]
          },
          "metadata": {
            "needs_background": "light"
          }
        }
      ]
    },
    {
      "cell_type": "code",
      "metadata": {
        "colab": {
          "resources": {
            "http://localhost:8080/nbextensions/google.colab/files.js": {
              "data": "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",
              "ok": true,
              "headers": [
                [
                  "content-type",
                  "application/javascript"
                ]
              ],
              "status": 200,
              "status_text": ""
            }
          },
          "base_uri": "https://localhost:8080/",
          "height": 72
        },
        "id": "kl-_rDb3LDMX",
        "outputId": "8a10c4c7-4411-4bab-96af-4c640bc01165"
      },
      "source": [
        "from google.colab import files\n",
        "myfiles = files.upload()"
      ],
      "execution_count": 28,
      "outputs": [
        {
          "output_type": "display_data",
          "data": {
            "text/html": [
              "\n",
              "     <input type=\"file\" id=\"files-5ec86bfd-db0e-45d9-b1f5-20a1f4531c3a\" name=\"files[]\" multiple disabled\n",
              "        style=\"border:none\" />\n",
              "     <output id=\"result-5ec86bfd-db0e-45d9-b1f5-20a1f4531c3a\">\n",
              "      Upload widget is only available when the cell has been executed in the\n",
              "      current browser session. Please rerun this cell to enable.\n",
              "      </output>\n",
              "      <script src=\"/nbextensions/google.colab/files.js\"></script> "
            ],
            "text/plain": [
              "<IPython.core.display.HTML object>"
            ]
          },
          "metadata": {}
        },
        {
          "output_type": "stream",
          "name": "stdout",
          "text": [
            "Saving test.csv to test.csv\n"
          ]
        }
      ]
    },
    {
      "cell_type": "code",
      "metadata": {
        "id": "SopliGfsLFLW"
      },
      "source": [
        "# Import the data\n",
        "test_df = pd.read_csv('test.csv')"
      ],
      "execution_count": null,
      "outputs": []
    },
    {
      "cell_type": "code",
      "metadata": {
        "id": "yJWMcGLjLHS2"
      },
      "source": [
        "test_df"
      ],
      "execution_count": null,
      "outputs": []
    },
    {
      "cell_type": "code",
      "metadata": {
        "id": "cMzbSSjBLJOo"
      },
      "source": [
        "y_pred = history.predict(test_df)"
      ],
      "execution_count": null,
      "outputs": []
    },
    {
      "cell_type": "code",
      "metadata": {
        "id": "pkL_h0MLLJlr"
      },
      "source": [
        "y_pred = "
      ],
      "execution_count": null,
      "outputs": []
    }
  ]
}